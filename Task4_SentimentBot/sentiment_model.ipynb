{
 "cells": [
  {
   "cell_type": "markdown",
   "id": "205aacb4",
   "metadata": {},
   "source": [
    "# 📌 Task 4 – Sentiment Analysis with Model Training and Prediction\n",
    "\n",
    "This notebook implements a sentiment classification system using logistic regression. It includes data preprocessing, TF-IDF feature extraction, model training, and sentiment prediction on new inputs."
   ]
  },
  {
   "cell_type": "markdown",
   "id": "ca212683",
   "metadata": {},
   "source": [
    "## 🔹 Part 1: Model Training\n",
    "\n",
    "Train a sentiment classification model using logistic regression on labeled tweet data. The pipeline includes preprocessing, vectorization using TF-IDF, label encoding, model training, evaluation, and saving the model."
   ]
  },
  {
   "cell_type": "code",
   "execution_count": 4,
   "id": "12461657",
   "metadata": {},
   "outputs": [
    {
     "name": "stdout",
     "output_type": "stream",
     "text": [
      "Accuracy: 0.9993346640053227\n",
      "              precision    recall  f1-score   support\n",
      "\n",
      "    negative       1.00      1.00      1.00      1013\n",
      "     neutral       1.00      1.00      1.00       962\n",
      "    positive       1.00      1.00      1.00      1031\n",
      "\n",
      "    accuracy                           1.00      3006\n",
      "   macro avg       1.00      1.00      1.00      3006\n",
      "weighted avg       1.00      1.00      1.00      3006\n",
      "\n"
     ]
    },
    {
     "name": "stderr",
     "output_type": "stream",
     "text": [
      "[nltk_data] Downloading package wordnet to C:\\Users\\Pratham\n",
      "[nltk_data]     Modi\\AppData\\Roaming\\nltk_data...\n",
      "[nltk_data]   Package wordnet is already up-to-date!\n",
      "[nltk_data] Downloading package omw-1.4 to C:\\Users\\Pratham\n",
      "[nltk_data]     Modi\\AppData\\Roaming\\nltk_data...\n",
      "[nltk_data]   Package omw-1.4 is already up-to-date!\n"
     ]
    }
   ],
   "source": [
    "import pandas as pd\n",
    "import re\n",
    "import nltk\n",
    "from sklearn.feature_extraction import text\n",
    "from nltk.stem import WordNetLemmatizer\n",
    "from sklearn.feature_extraction.text import TfidfVectorizer\n",
    "from sklearn.preprocessing import LabelEncoder\n",
    "from sklearn.linear_model import LogisticRegression\n",
    "from sklearn.model_selection import train_test_split\n",
    "from sklearn.metrics import classification_report, accuracy_score\n",
    "import pickle\n",
    "\n",
    "# Download necessary resources\n",
    "nltk.download('wordnet')\n",
    "nltk.download('omw-1.4')\n",
    "\n",
    "# Step 1: Load the Dataset\n",
    "df = pd.read_csv('data/sentiment_dataset.csv')\n",
    "\n",
    "# Step 2: Clean & Preprocess the Text\n",
    "stop_words = text.ENGLISH_STOP_WORDS\n",
    "lemmatizer = WordNetLemmatizer()\n",
    "\n",
    "def clean_text(text):\n",
    "    text = re.sub(r\"http\\S+\", \"\", text)\n",
    "    text = re.sub(r\"[^a-zA-Z\\s]\", \"\", text)\n",
    "    text = text.lower()\n",
    "    words = text.split()\n",
    "    words = [lemmatizer.lemmatize(word) for word in words if word not in stop_words]\n",
    "    return \" \".join(words)\n",
    "\n",
    "df['clean_text'] = df['text'].apply(clean_text)\n",
    "\n",
    "# Step 3: Convert Text to TF-IDF Vectors (Improved)\n",
    "vectorizer = TfidfVectorizer(ngram_range=(1, 2), stop_words='english', max_df=0.9, min_df=3, max_features=10000, sublinear_tf=True)\n",
    "X = vectorizer.fit_transform(df['clean_text'])\n",
    "\n",
    "# Step 4: Encode Sentiment Labels\n",
    "le = LabelEncoder()\n",
    "y = le.fit_transform(df['sentiment'])\n",
    "\n",
    "# Step 5: Train the Model\n",
    "X_train, X_test, y_train, y_test = train_test_split(X, y, test_size=0.2, random_state=42)\n",
    "model = LogisticRegression()\n",
    "model.fit(X_train, y_train)\n",
    "\n",
    "# Step 6: Evaluate the Model\n",
    "y_pred = model.predict(X_test)\n",
    "print(\"Accuracy:\", accuracy_score(y_test, y_pred))\n",
    "print(classification_report(y_test, y_pred, target_names=le.classes_))\n",
    "\n",
    "# Step 7: Save the Model\n",
    "with open('sentiment_model.pkl', 'wb') as f:\n",
    "    pickle.dump((model, vectorizer, le), f)\n"
   ]
  },
  {
   "cell_type": "markdown",
   "id": "729fe3a1",
   "metadata": {},
   "source": [
    "## 🔹 Part 2: Sentiment Prediction\n",
    "\n",
    "Use the trained model to predict sentiment on new input text. This section includes model loading, text preprocessing, and a prediction function."
   ]
  },
  {
   "cell_type": "code",
   "execution_count": 3,
   "id": "371cc046",
   "metadata": {},
   "outputs": [
    {
     "name": "stdout",
     "output_type": "stream",
     "text": [
      "Sentiment: positive (Confidence: 89.43%)\n",
      "Sentiment: neutral (Confidence: 97.71%)\n",
      "Sentiment: negative (Confidence: 98.91%)\n"
     ]
    },
    {
     "name": "stderr",
     "output_type": "stream",
     "text": [
      "[nltk_data] Downloading package wordnet to C:\\Users\\Pratham\n",
      "[nltk_data]     Modi\\AppData\\Roaming\\nltk_data...\n",
      "[nltk_data]   Package wordnet is already up-to-date!\n",
      "[nltk_data] Downloading package omw-1.4 to C:\\Users\\Pratham\n",
      "[nltk_data]     Modi\\AppData\\Roaming\\nltk_data...\n",
      "[nltk_data]   Package omw-1.4 is already up-to-date!\n"
     ]
    }
   ],
   "source": [
    "import pickle\n",
    "import re\n",
    "from sklearn.feature_extraction import text\n",
    "from nltk.stem import WordNetLemmatizer\n",
    "import nltk\n",
    "\n",
    "# Download required resources\n",
    "nltk.download('wordnet')\n",
    "nltk.download('omw-1.4')\n",
    "\n",
    "# Load model, vectorizer, and label encoder\n",
    "with open('sentiment_model.pkl', 'rb') as f:\n",
    "    model, vectorizer, le = pickle.load(f)\n",
    "\n",
    "# Initialize tools\n",
    "stop_words = text.ENGLISH_STOP_WORDS\n",
    "lemmatizer = WordNetLemmatizer()\n",
    "\n",
    "# Preprocessing function\n",
    "def clean_text(text):\n",
    "    text = re.sub(r\"http\\S+\", \"\", text)\n",
    "    text = re.sub(r\"[^a-zA-Z\\s]\", \"\", text)\n",
    "    text = text.lower()\n",
    "    words = text.split()\n",
    "    words = [lemmatizer.lemmatize(word) for word in words if word not in stop_words]\n",
    "    return \" \".join(words)\n",
    "\n",
    "# Prediction function with confidence\n",
    "def predict_sentiment(text):\n",
    "    cleaned = clean_text(text)\n",
    "    vector = vectorizer.transform([cleaned])\n",
    "    probabilities = model.predict_proba(vector)[0]\n",
    "    prediction = model.predict(vector)[0]\n",
    "    sentiment = le.inverse_transform([prediction])[0]\n",
    "    confidence = round(max(probabilities) * 100, 2)\n",
    "    return sentiment, confidence\n",
    "\n",
    "# Example predictions\n",
    "s, c = predict_sentiment(\"I love this product!\")\n",
    "print(f\"Sentiment: {s} (Confidence: {c}%)\")\n",
    "\n",
    "s, c = predict_sentiment(\"It's okay, not great.\")\n",
    "print(f\"Sentiment: {s} (Confidence: {c}%)\")\n",
    "\n",
    "s, c = predict_sentiment(\"Terrible experience!\")\n",
    "print(f\"Sentiment: {s} (Confidence: {c}%)\")\n"
   ]
  },
  {
   "cell_type": "markdown",
   "id": "3438bd3a",
   "metadata": {},
   "source": [
    "## 🔹 Part 3: Model Evaluation & Visualization\n",
    "Evaluate model performance using precision, recall, and a confusion matrix. This helps us understand how well our sentiment classifier performs across each class."
   ]
  },
  {
   "cell_type": "code",
   "execution_count": 2,
   "id": "8540c230",
   "metadata": {},
   "outputs": [
    {
     "name": "stdout",
     "output_type": "stream",
     "text": [
      "Accuracy: 0.9993346640053227\n"
     ]
    },
    {
     "data": {
      "image/png": "[encoded data removed]",
      "text/plain": [
       "<Figure size 600x400 with 2 Axes>"
      ]
     },
     "metadata": {},
     "output_type": "display_data"
    },
    {
     "name": "stdout",
     "output_type": "stream",
     "text": [
      "Precision Score: 0.9993349920802708\n",
      "Recall Score: 0.9993346640053227\n"
     ]
    }
   ],
   "source": [
    "from sklearn.metrics import confusion_matrix, precision_score, recall_score\n",
    "import seaborn as sns\n",
    "import matplotlib.pyplot as plt\n",
    "\n",
    "# Predict again to get y_pred\n",
    "y_pred = model.predict(X_test)\n",
    "\n",
    "# Accuracy (optional here)\n",
    "print(\"Accuracy:\", accuracy_score(y_test, y_pred))\n",
    "\n",
    "# Confusion matrix\n",
    "cm = confusion_matrix(y_test, y_pred)\n",
    "\n",
    "# Plot confusion matrix\n",
    "plt.figure(figsize=(6, 4))\n",
    "sns.heatmap(cm, annot=True, fmt=\"d\", cmap=\"Blues\", xticklabels=le.classes_, yticklabels=le.classes_)\n",
    "plt.title(\"Confusion Matrix\")\n",
    "plt.xlabel(\"Predicted\")\n",
    "plt.ylabel(\"Actual\")\n",
    "plt.show()\n",
    "\n",
    "# Precision and recall\n",
    "print(\"Precision Score:\", precision_score(y_test, y_pred, average='weighted'))\n",
    "print(\"Recall Score:\", recall_score(y_test, y_pred, average='weighted'))\n"
   ]
  }
 ],
 "metadata": {
  "kernelspec": {
   "display_name": "Python 3",
   "language": "python",
   "name": "python3"
  },
  "language_info": {
   "codemirror_mode": {
    "name": "ipython",
    "version": 3
   },
   "file_extension": ".py",
   "mimetype": "text/x-python",
   "name": "python",
   "nbconvert_exporter": "python",
   "pygments_lexer": "ipython3",
   "version": "3.10.0"
  }
 },
 "nbformat": 4,
 "nbformat_minor": 5
}
